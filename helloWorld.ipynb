{
 "cells": [
  {
   "cell_type": "markdown",
   "metadata": {},
   "source": [
    "## Importing Libraries"
   ]
  },
  {
   "cell_type": "code",
   "execution_count": 15,
   "metadata": {},
   "outputs": [],
   "source": [
    "import requests\n",
    "from bs4 import BeautifulSoup\n",
    "import csv"
   ]
  },
  {
   "cell_type": "markdown",
   "metadata": {},
   "source": [
    "# Getting URL"
   ]
  },
  {
   "cell_type": "code",
   "execution_count": 16,
   "metadata": {},
   "outputs": [],
   "source": [
    "pageUrl = \"http://www.espn.com/nba/players/_/position/c\"\n",
    "page = requests.get(pageUrl)"
   ]
  },
  {
   "cell_type": "markdown",
   "metadata": {},
   "source": [
    "# Creating Player Class"
   ]
  },
  {
   "cell_type": "code",
   "execution_count": 17,
   "metadata": {},
   "outputs": [],
   "source": [
    "class Player:\n",
    "    def __init__(self, name, team, college):\n",
    "        self.name = name    # instance variable unique to each instance\n",
    "        self.team = team\n",
    "        self.college = college"
   ]
  },
  {
   "cell_type": "markdown",
   "metadata": {},
   "source": [
    "### Parse URL Page"
   ]
  },
  {
   "cell_type": "code",
   "execution_count": 41,
   "metadata": {},
   "outputs": [],
   "source": [
    "soup = BeautifulSoup(page.content, \"html.parser\")\n",
    "results = soup.find(class_ = \"tablehead\")\n",
    "\n",
    "playerAttributes = []\n",
    "listOfPlayerObjects = []\n",
    "\n",
    "players = results.find(class_ = \"stathead\")\n",
    "for child in players.next_siblings:\n",
    "    if (not \"colhead\" in child[\"class\"]) and (not \"stathead\" in child[\"class\"]):\n",
    "        if (len(playerAttributes) > 0):\n",
    "            listOfPlayerObjects.append(Player(playerAttributes[0], playerAttributes[1], playerAttributes[2]))\n",
    "            playerAttributes = []\n",
    "        for player in child:\n",
    "            playerAttributes.append(player.text)\n",
    "\n",
    "\n",
    "with open('players.csv', 'w', newline='') as csvfile:\n",
    "    fieldnames = ['Name', 'College', 'Team']\n",
    "    writer = csv.DictWriter(csvfile, fieldnames=fieldnames)\n",
    "\n",
    "    writer.writeheader()\n",
    "    for x in listOfPlayerObjects:\n",
    "        writer.writerow({'Name': x.name, 'College': x.college, 'Team': x.team})\n"
   ]
  },
  {
   "cell_type": "markdown",
   "metadata": {},
   "source": [
    "# Creating Dummy Data"
   ]
  },
  {
   "cell_type": "code",
   "execution_count": null,
   "metadata": {},
   "outputs": [],
   "source": []
  }
 ],
 "metadata": {
  "interpreter": {
   "hash": "aee8b7b246df8f9039afb4144a1f6fd8d2ca17a180786b69acc140d282b71a49"
  },
  "kernelspec": {
   "display_name": "Python 3.9.6 64-bit",
   "language": "python",
   "name": "python3"
  },
  "language_info": {
   "codemirror_mode": {
    "name": "ipython",
    "version": 3
   },
   "file_extension": ".py",
   "mimetype": "text/x-python",
   "name": "python",
   "nbconvert_exporter": "python",
   "pygments_lexer": "ipython3",
   "version": "3.9.6"
  },
  "orig_nbformat": 4
 },
 "nbformat": 4,
 "nbformat_minor": 2
}
