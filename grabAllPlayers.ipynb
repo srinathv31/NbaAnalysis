{
 "cells": [
  {
   "cell_type": "markdown",
   "metadata": {},
   "source": [
    "# Import Libraries"
   ]
  },
  {
   "cell_type": "code",
   "execution_count": 1,
   "metadata": {},
   "outputs": [],
   "source": [
    "import requests\n",
    "from bs4 import BeautifulSoup\n",
    "import pandas as pd\n",
    "import progressbar"
   ]
  },
  {
   "cell_type": "markdown",
   "metadata": {},
   "source": [
    "# Grabbing URL"
   ]
  },
  {
   "cell_type": "code",
   "execution_count": 2,
   "metadata": {},
   "outputs": [],
   "source": [
    "allPlayersURL = \"https://www.basketball-reference.com/players/a\"\n",
    "allPlayersPageRequest = requests.get(allPlayersURL)"
   ]
  },
  {
   "cell_type": "markdown",
   "metadata": {},
   "source": [
    "## Parse URL Page"
   ]
  },
  {
   "cell_type": "code",
   "execution_count": 3,
   "metadata": {},
   "outputs": [],
   "source": [
    "page_soup = BeautifulSoup(allPlayersPageRequest.content, \"html.parser\")\n",
    "table = page_soup.find(\"table\")\n"
   ]
  },
  {
   "cell_type": "markdown",
   "metadata": {},
   "source": [
    "## Creating Player Class"
   ]
  },
  {
   "cell_type": "code",
   "execution_count": 4,
   "metadata": {},
   "outputs": [],
   "source": [
    "# class Player:\n",
    "#     def __init__(self, name, college, active_from, active_to, position, url):\n",
    "#         self.name = name    # instance variable unique to each instance\n",
    "#         self.college = college\n",
    "#         self.active_from = active_from,\n",
    "#         self.active_to = active_to,\n",
    "#         self.position = position,\n",
    "#         self.url = url"
   ]
  },
  {
   "cell_type": "markdown",
   "metadata": {},
   "source": [
    "## Grabbing NBA Data"
   ]
  },
  {
   "cell_type": "code",
   "execution_count": 4,
   "metadata": {},
   "outputs": [],
   "source": [
    "count = 0\n",
    "playersDB = []\n",
    "if table:\n",
    "    table_body = table.find(\"tbody\")\n",
    "    for row in table_body:\n",
    "        table_body.find_all(\"tr\")\n",
    "        player_url = row.find(\"a\")\n",
    "        try:\n",
    "            # all data for all players uniform across database\n",
    "            cells = row.findAll(\"td\")\n",
    "            active_from = int(cells[0].text)\n",
    "        except (AttributeError):\n",
    "            continue\n",
    "        if (active_from > 2009):\n",
    "            try:\n",
    "                count += 1\n",
    "                player_names = player_url.text\n",
    "                active_to = int(cells[1].text)\n",
    "                position = cells[2].text\n",
    "                college = cells[6].text\n",
    "                player_entry = {\n",
    "                    'name': player_names,\n",
    "                    'active_from': active_from,\n",
    "                    'active_to': active_to,\n",
    "                    'position': position,\n",
    "                    'college': college,\n",
    "                    'url': \"https://www.basketball-reference.com\"+player_url['href']\n",
    "                }\n",
    "                playersDB.append(player_entry)\n",
    "            except (AttributeError):\n",
    "                continue"
   ]
  },
  {
   "cell_type": "markdown",
   "metadata": {},
   "source": [
    "## Grabbing College Data"
   ]
  },
  {
   "cell_type": "code",
   "execution_count": 15,
   "metadata": {},
   "outputs": [],
   "source": [
    "allCollegePlayersURL = \"https://www.sports-reference.com/cbb/players/a-index.html\"\n",
    "allCollegePlayersPageRequest = requests.get(allCollegePlayersURL)\n",
    "college_page_soup = BeautifulSoup(allCollegePlayersPageRequest.content, \"html.parser\")\n",
    "\n",
    "college_div = college_page_soup.find(\"div\", id=\"content\")\n",
    "college_list_header = college_div.find_next(\"h2\").find_next(\"p\")\n",
    "college_total_list = college_list_header.find_next_siblings(\"div\")\n",
    "\n",
    "# targets = college_page_soup.find_all('small')\n",
    "# for i in targets:\n",
    "#     try:\n",
    "#         i.select_one('a').decompose()\n",
    "#     except AttributeError:\n",
    "#         continue\n",
    "\n",
    "college_duration = \"\"\n",
    "playersDBWithCollege = []\n",
    "# bar = progressbar.ProgressBar(max_value=len(playersDB))\n",
    "giant_list = []\n",
    "print(len(college_total_list))\n",
    "for j in college_total_list:\n",
    "    short_list = j.find_all_next(\"p\")\n",
    "    print(short_list)\n",
    "\n",
    "for i in playersDB:\n",
    "    # count += 1\n",
    "    # if (i[\"college\"] != \"\"):\n",
    "    #     for j in college_total_list:\n",
    "    #         try:\n",
    "    #             if(i[\"name\"] == j.find(\"a\").text):\n",
    "    #                 print(\"NAME: \"+j.find(\"a\").text)\n",
    "    #                 college_duration = j.find(\"small\").text\n",
    "    #                 print(\"YEAR: \"+j.find(\"small\").text)\n",
    "    #         except AttributeError:\n",
    "    #             continue\n",
    "    # player_entry_college = {\n",
    "    #     'name': i[\"name\"],\n",
    "    #     'active_from': i[\"active_from\"],\n",
    "    #     'active_to': i[\"active_to\"],\n",
    "    #     'position': i[\"position\"],\n",
    "    #     'college': i[\"college\"],\n",
    "    #     'college_duration': college_duration,\n",
    "    #     'url': i[\"url\"]\n",
    "    # }\n",
    "    # playersDBWithCollege.append(player_entry_college)\n",
    "    college_duration = \"\"\n",
    "    # bar.update(count)"
   ]
  },
  {
   "cell_type": "code",
   "execution_count": null,
   "metadata": {},
   "outputs": [],
   "source": [
    "# bar = progressbar.ProgressBar(max_value=len(playersDB))\n",
    "# count = 0\n",
    "# playersDBWithCollege = []\n",
    "# college_start_year = \"\"\n",
    "# college_end_year = \"\"\n",
    "# for i in playersDB:\n",
    "#     count += 1\n",
    "#     if (i[\"college\"] != \"\"):\n",
    "#         playerPageRequest = requests.get(i[\"url\"])\n",
    "#         html_doc = playerPageRequest.text.replace('<!--', '').replace('-->', '')\n",
    "#         playerPageSoup = BeautifulSoup(html_doc, \"html.parser\")\n",
    "#         college_div = playerPageSoup.find(\"div\", id=\"all_all_college_stats\")\n",
    "#         college_table = college_div.find(\"table\")\n",
    "#         college_stats = college_table.find(\"tbody\")\n",
    "#         college_rows = college_stats.find_all(\"tr\")\n",
    "#         college_years_played = []\n",
    "#         for college_year in college_rows:\n",
    "#             season = college_year.find(\"th\")\n",
    "#             college_years_played.append(season.text)\n",
    "#         college_start_year = college_years_played[0]\n",
    "#         if (college_years_played[0] != college_years_played[-1]):\n",
    "#             college_end_year = college_years_played[-1]\n",
    "#         else:\n",
    "#             college_end_year = \"\"\n",
    "#     print(i[\"name\"])\n",
    "#     print(college_start_year)\n",
    "#     print(college_end_year)\n",
    "#     player_entry_college = {\n",
    "#         'name': i[\"name\"],\n",
    "#         'active_from': i[\"active_from\"],\n",
    "#         'active_to': i[\"active_to\"],\n",
    "#         'position': i[\"position\"],\n",
    "#         'college': i[\"college\"],\n",
    "#         'college_start_year': college_start_year,\n",
    "#         'college_end_year': college_end_year,\n",
    "#         'url': i[\"url\"]\n",
    "#     }\n",
    "#     playersDBWithCollege.append(player_entry_college)\n",
    "#     college_start_year = \"\"\n",
    "#     college_end_year = \"\"\n",
    "#     bar.update(count)"
   ]
  },
  {
   "cell_type": "markdown",
   "metadata": {},
   "source": [
    "## Create DF"
   ]
  },
  {
   "cell_type": "code",
   "execution_count": 8,
   "metadata": {},
   "outputs": [],
   "source": [
    "df = pd.DataFrame(playersDBWithCollege)"
   ]
  },
  {
   "cell_type": "markdown",
   "metadata": {},
   "source": [
    "## Output df to csv"
   ]
  },
  {
   "cell_type": "code",
   "execution_count": 9,
   "metadata": {},
   "outputs": [],
   "source": [
    "df.to_csv(\"playerData.csv\", encoding=\"utf-8\", index_label=\"index\")"
   ]
  }
 ],
 "metadata": {
  "interpreter": {
   "hash": "aee8b7b246df8f9039afb4144a1f6fd8d2ca17a180786b69acc140d282b71a49"
  },
  "kernelspec": {
   "display_name": "Python 3.9.6 64-bit",
   "language": "python",
   "name": "python3"
  },
  "language_info": {
   "codemirror_mode": {
    "name": "ipython",
    "version": 3
   },
   "file_extension": ".py",
   "mimetype": "text/x-python",
   "name": "python",
   "nbconvert_exporter": "python",
   "pygments_lexer": "ipython3",
   "version": "3.9.6"
  },
  "orig_nbformat": 4
 },
 "nbformat": 4,
 "nbformat_minor": 2
}
