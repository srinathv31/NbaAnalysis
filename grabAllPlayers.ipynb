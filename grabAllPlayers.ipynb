{
 "cells": [
  {
   "cell_type": "markdown",
   "metadata": {},
   "source": [
    "# Import Libraries"
   ]
  },
  {
   "cell_type": "code",
   "execution_count": 1,
   "metadata": {},
   "outputs": [],
   "source": [
    "import requests\n",
    "from bs4 import BeautifulSoup\n",
    "import pandas as pd\n",
    "import progressbar"
   ]
  },
  {
   "cell_type": "markdown",
   "metadata": {},
   "source": [
    "# Grabbing URL"
   ]
  },
  {
   "cell_type": "code",
   "execution_count": 2,
   "metadata": {},
   "outputs": [],
   "source": [
    "allPlayersURL = \"https://www.basketball-reference.com/players/a\"\n",
    "allPlayersPageRequest = requests.get(allPlayersURL)"
   ]
  },
  {
   "cell_type": "markdown",
   "metadata": {},
   "source": [
    "## Parse URL Page"
   ]
  },
  {
   "cell_type": "code",
   "execution_count": 3,
   "metadata": {},
   "outputs": [],
   "source": [
    "page_soup = BeautifulSoup(allPlayersPageRequest.content, \"html.parser\")\n",
    "table = page_soup.find(\"table\")\n"
   ]
  },
  {
   "cell_type": "markdown",
   "metadata": {},
   "source": [
    "## Grabbing NBA Data"
   ]
  },
  {
   "cell_type": "code",
   "execution_count": 4,
   "metadata": {},
   "outputs": [],
   "source": [
    "count = 0\n",
    "playersDB = []\n",
    "if table:\n",
    "    table_body = table.find(\"tbody\")\n",
    "    for row in table_body:\n",
    "        table_body.find_all(\"tr\")\n",
    "        player_url = row.find(\"a\")\n",
    "        try:\n",
    "            # all data for all players uniform across database\n",
    "            cells = row.findAll(\"td\")\n",
    "            active_from = int(cells[0].text)\n",
    "        except (AttributeError):\n",
    "            continue\n",
    "        if (active_from > 2009):\n",
    "            try:\n",
    "                count += 1\n",
    "                player_names = player_url.text\n",
    "                active_to = int(cells[1].text)\n",
    "                position = cells[2].text\n",
    "                college = \"Pittsburgh\" if cells[6].text == \"Pitt\" else cells[6].text\n",
    "                player_entry = {\n",
    "                    'name': player_names,\n",
    "                    'active_from': active_from,\n",
    "                    'active_to': active_to,\n",
    "                    'position': position,\n",
    "                    'college': college,\n",
    "                    'url': \"https://www.basketball-reference.com\"+player_url['href']\n",
    "                }\n",
    "                playersDB.append(player_entry)\n",
    "            except (AttributeError):\n",
    "                continue"
   ]
  },
  {
   "cell_type": "markdown",
   "metadata": {},
   "source": [
    "## Grabbing College Data"
   ]
  },
  {
   "cell_type": "code",
   "execution_count": 6,
   "metadata": {},
   "outputs": [
    {
     "name": "stdout",
     "output_type": "stream",
     "text": [
      "Precious Achiuwa\n",
      "(2020-2020) \n",
      "Memphis\n",
      "Quincy Acy\n",
      "(2009-2012) \n",
      "Baylor\n",
      "Jaylen Adams\n",
      "(2015-2018) \n",
      "St. Bonaventure\n",
      "Jordan Adams\n",
      "(2013-2014) \n",
      "UCLA\n",
      "Steven Adams\n",
      "(2013-2013) \n",
      "Pittsburgh\n",
      "Bam Adebayo\n",
      "(2017-2017) \n",
      "Kentucky\n",
      "Deng Adel\n",
      "(2016-2018) \n",
      "Louisville\n",
      "DeVaughn Akoon-Purcell\n",
      "(2015-2016) \n",
      "Illinois State\n",
      "Solomon Alabi\n",
      "(2008-2010) \n",
      "Florida State\n",
      "Santi Aldama\n",
      "(2020-2021) \n",
      "Loyola (MD)\n",
      "Cole Aldrich\n",
      "(2008-2010) \n",
      "Kansas\n",
      "Cliff Alexander\n",
      "(2015-2015) \n",
      "Kansas\n",
      "Kyle Alexander\n",
      "(2016-2019) \n",
      "Tennessee\n",
      "Ty-Shon Alexander\n",
      "(2018-2020) \n",
      "Creighton\n",
      "Nickeil Alexander-Walker\n",
      "(2018-2019) \n",
      "Virginia Tech\n",
      "Rawle Alkins\n",
      "(2017-2018) \n",
      "Arizona\n",
      "Grayson Allen\n",
      "(2015-2018) \n",
      "Duke\n",
      "Jarrett Allen\n",
      "(2017-2017) \n",
      "Texas\n",
      "Kadeem Allen\n",
      "(2016-2017) \n",
      "Arizona\n",
      "Lavoy Allen\n",
      "(2008-2011) \n",
      "Temple\n",
      "Jose Alvarado\n",
      "(2018-2021) \n",
      "Georgia Tech\n",
      "Al-Farouq Aminu\n",
      "(2009-2010) \n",
      "Wake Forest\n",
      "Antonio Anderson\n",
      "(2006-2009) \n",
      "Memphis\n",
      "James Anderson\n",
      "(2008-2010) \n",
      "Oklahoma State\n",
      "Justin Anderson\n",
      "(2013-2015) \n",
      "Virginia\n",
      "Kyle Anderson\n",
      "(2013-2014) \n",
      "UCLA\n",
      "Ike Anigbogu\n",
      "(2017-2017) \n",
      "UCLA\n",
      "Kostas Antetokounmpo\n",
      "(2018-2018) \n",
      "Dayton\n",
      "OG Anunoby\n",
      "(2016-2017) \n",
      "Indiana\n",
      "Keith Appling\n",
      "(2011-2014) \n",
      "Michigan State\n",
      "Ryan Arcidiacono\n",
      "(2013-2016) \n",
      "Villanova\n",
      "Jamel Artis\n",
      "(2014-2017) \n",
      "Pittsburgh\n",
      "Joel Ayayi\n",
      "(2019-2021) \n",
      "Gonzaga\n",
      "Jeff Ayres\n",
      "(2006-2009) \n",
      "Arizona State\n",
      "Deandre Ayton\n",
      "(2018-2018) \n",
      "Arizona\n",
      "Udoka Azubuike\n",
      "(2017-2020) \n",
      "Kansas\n"
     ]
    }
   ],
   "source": [
    "allCollegePlayersURL = \"https://www.sports-reference.com/cbb/players/a-index.html\"\n",
    "allCollegePlayersPageRequest = requests.get(allCollegePlayersURL)\n",
    "college_page_soup = BeautifulSoup(allCollegePlayersPageRequest.content, \"html.parser\")\n",
    "\n",
    "college_div = college_page_soup.find(\"div\", id=\"content\")\n",
    "college_list_header = college_div.find_next(\"h2\").find_next(\"p\")\n",
    "college_total_list = college_list_header.find_next_siblings(\"div\")\n",
    "\n",
    "college_duration = \"\"\n",
    "playersDBWithCollege = []\n",
    "# bar = progressbar.ProgressBar(max_value=len(playersDB))\n",
    "\n",
    "for i in playersDB:\n",
    "    count += 1\n",
    "    if (i[\"college\"] != \"\"):\n",
    "        for j in college_total_list:\n",
    "            short_list = j.find_all(\"p\")\n",
    "            for x in short_list:\n",
    "                if ((x.find_next(\"a\").text == i[\"name\"]) and (x.find_next(\"small\").find_next(\"a\").text == i[\"college\"])):\n",
    "                    year = x.find_next(\"small\")\n",
    "                    print(x.find_next(\"a\").text) # Player Name\n",
    "                    college_duration = year.find(text=True, recursive=False)\n",
    "                    print(year.find(text=True, recursive=False))\n",
    "                    print(x.find_next(\"small\").find_next(\"a\").text) # Player College\n",
    "    player_entry_college = {\n",
    "        'name': i[\"name\"],\n",
    "        'active_from': i[\"active_from\"],\n",
    "        'active_to': i[\"active_to\"],\n",
    "        'position': i[\"position\"],\n",
    "        'college': i[\"college\"],\n",
    "        'college_duration': college_duration,\n",
    "        'url': i[\"url\"]\n",
    "    }\n",
    "    playersDBWithCollege.append(player_entry_college)\n",
    "    college_duration = \"\"\n",
    "    # bar.update(count)"
   ]
  },
  {
   "cell_type": "markdown",
   "metadata": {},
   "source": [
    "## Create DF"
   ]
  },
  {
   "cell_type": "code",
   "execution_count": 7,
   "metadata": {},
   "outputs": [],
   "source": [
    "df = pd.DataFrame(playersDBWithCollege)"
   ]
  },
  {
   "cell_type": "markdown",
   "metadata": {},
   "source": [
    "## Output df to csv"
   ]
  },
  {
   "cell_type": "code",
   "execution_count": 8,
   "metadata": {},
   "outputs": [],
   "source": [
    "df.to_csv(\"playerData.csv\", encoding=\"utf-8\", index_label=\"index\")"
   ]
  }
 ],
 "metadata": {
  "interpreter": {
   "hash": "aee8b7b246df8f9039afb4144a1f6fd8d2ca17a180786b69acc140d282b71a49"
  },
  "kernelspec": {
   "display_name": "Python 3.9.6 64-bit",
   "language": "python",
   "name": "python3"
  },
  "language_info": {
   "codemirror_mode": {
    "name": "ipython",
    "version": 3
   },
   "file_extension": ".py",
   "mimetype": "text/x-python",
   "name": "python",
   "nbconvert_exporter": "python",
   "pygments_lexer": "ipython3",
   "version": "3.9.6"
  },
  "orig_nbformat": 4
 },
 "nbformat": 4,
 "nbformat_minor": 2
}
