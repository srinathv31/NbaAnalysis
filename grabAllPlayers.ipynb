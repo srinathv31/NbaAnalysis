{
 "cells": [
  {
   "cell_type": "markdown",
   "metadata": {},
   "source": [
    "# Import Libraries"
   ]
  },
  {
   "cell_type": "code",
   "execution_count": 1,
   "metadata": {},
   "outputs": [],
   "source": [
    "import requests\n",
    "from bs4 import BeautifulSoup\n",
    "import pandas as pd\n",
    "import progressbar\n",
    "import string"
   ]
  },
  {
   "cell_type": "markdown",
   "metadata": {},
   "source": [
    "## Grabbing NBA Data"
   ]
  },
  {
   "cell_type": "code",
   "execution_count": 2,
   "metadata": {},
   "outputs": [
    {
     "name": "stderr",
     "output_type": "stream",
     "text": [
      "  0% (0 of 26) |                         | Elapsed Time: 0:00:00 ETA:  --:--:--\n",
      "  7% (2 of 26) |#                        | Elapsed Time: 0:00:03 ETA:   0:00:42\n",
      " 11% (3 of 26) |##                       | Elapsed Time: 0:00:04 ETA:   0:00:37\n",
      " 15% (4 of 26) |###                      | Elapsed Time: 0:00:05 ETA:   0:00:24\n",
      " 19% (5 of 26) |####                     | Elapsed Time: 0:00:06 ETA:   0:00:17\n",
      " 23% (6 of 26) |#####                    | Elapsed Time: 0:00:06 ETA:   0:00:14\n",
      " 26% (7 of 26) |######                   | Elapsed Time: 0:00:07 ETA:   0:00:12\n",
      " 30% (8 of 26) |#######                  | Elapsed Time: 0:00:09 ETA:   0:00:25\n",
      " 34% (9 of 26) |########                 | Elapsed Time: 0:00:09 ETA:   0:00:17\n",
      " 38% (10 of 26) |#########               | Elapsed Time: 0:00:10 ETA:   0:00:15\n",
      " 42% (11 of 26) |##########              | Elapsed Time: 0:00:11 ETA:   0:00:13\n",
      " 46% (12 of 26) |###########             | Elapsed Time: 0:00:11 ETA:   0:00:09\n",
      " 50% (13 of 26) |############            | Elapsed Time: 0:00:15 ETA:   0:00:42\n",
      " 53% (14 of 26) |############            | Elapsed Time: 0:00:15 ETA:   0:00:21\n",
      " 57% (15 of 26) |#############           | Elapsed Time: 0:00:15 ETA:   0:00:14\n",
      " 61% (16 of 26) |##############          | Elapsed Time: 0:00:16 ETA:   0:00:11\n",
      " 65% (17 of 26) |###############         | Elapsed Time: 0:00:16 ETA:   0:00:08\n",
      " 69% (18 of 26) |################        | Elapsed Time: 0:00:17 ETA:   0:00:04\n",
      " 73% (19 of 26) |#################       | Elapsed Time: 0:00:19 ETA:   0:00:17\n",
      " 76% (20 of 26) |##################      | Elapsed Time: 0:00:20 ETA:   0:00:09\n",
      " 80% (21 of 26) |###################     | Elapsed Time: 0:00:20 ETA:   0:00:05\n",
      " 84% (22 of 26) |####################    | Elapsed Time: 0:00:21 ETA:   0:00:03\n",
      " 88% (23 of 26) |#####################   | Elapsed Time: 0:00:23 ETA:   0:00:03\n",
      " 92% (24 of 26) |######################  | Elapsed Time: 0:00:23 ETA:   0:00:02\n",
      " 96% (25 of 26) |####################### | Elapsed Time: 0:00:23 ETA:   0:00:00\n",
      "100% (26 of 26) |########################| Elapsed Time: 0:00:23 ETA:  00:00:00\n"
     ]
    }
   ],
   "source": [
    "count = 0\n",
    "playersDB = []\n",
    "bar = progressbar.ProgressBar(max_value=26)\n",
    "for letter in string.ascii_lowercase:\n",
    "    count += 1\n",
    "    # Grab URL and Parse URL Page\n",
    "    allPlayersURL = \"https://www.basketball-reference.com/players/\"+letter\n",
    "    allPlayersPageRequest = requests.get(allPlayersURL)\n",
    "    page_soup = BeautifulSoup(allPlayersPageRequest.content, \"html.parser\")\n",
    "    table = page_soup.find(\"table\")\n",
    "\n",
    "    if table:\n",
    "        table_body = table.find(\"tbody\")\n",
    "        for row in table_body:\n",
    "            table_body.find_all(\"tr\")\n",
    "            player_url = row.find(\"a\")\n",
    "            try:\n",
    "                # all data for all players uniform across database\n",
    "                cells = row.findAll(\"td\")\n",
    "                active_from = int(cells[0].text)\n",
    "            except (AttributeError):\n",
    "                continue\n",
    "            if (active_from > 2009):\n",
    "                try:\n",
    "                    player_names = player_url.text\n",
    "                    active_to = int(cells[1].text)\n",
    "                    position = cells[2].text\n",
    "                    college = \"Pittsburgh\" if cells[6].text == \"Pitt\" else cells[6].text\n",
    "                    player_entry = {\n",
    "                        'name': player_names,\n",
    "                        'active_from': active_from,\n",
    "                        'active_to': active_to,\n",
    "                        'position': position,\n",
    "                        'college': college,\n",
    "                        'url': \"https://www.basketball-reference.com\"+player_url['href'],\n",
    "                        'key': letter\n",
    "                    }\n",
    "                    playersDB.append(player_entry)\n",
    "                except (AttributeError):\n",
    "                    continue\n",
    "    bar.update(count)"
   ]
  },
  {
   "cell_type": "markdown",
   "metadata": {},
   "source": [
    "## Grabbing College Data"
   ]
  },
  {
   "cell_type": "code",
   "execution_count": null,
   "metadata": {},
   "outputs": [],
   "source": [
    "bar = progressbar.ProgressBar(max_value=len(playersDB))\n",
    "college_duration = \"\"\n",
    "playersDBWithCollege = []\n",
    "count = 0\n",
    "for letter in string.ascii_lowercase:\n",
    "    # print(letter)\n",
    "    allCollegePlayersURL = \"https://www.sports-reference.com/cbb/players/\"+letter+\"-index.html\"\n",
    "    allCollegePlayersPageRequest = requests.get(allCollegePlayersURL)\n",
    "    college_page_soup = BeautifulSoup(allCollegePlayersPageRequest.content, \"html.parser\")\n",
    "\n",
    "    college_div = college_page_soup.find(\"div\", id=\"content\")\n",
    "    college_list_header = college_div.find_next(\"h2\").find_next(\"p\")\n",
    "    college_total_list = college_list_header.find_next_siblings(\"div\")\n",
    "    \n",
    "    for i in list(filter(lambda d: d['key'] in letter, playersDB)):\n",
    "        # if (i[\"key\"] != letter):\n",
    "        #     continue\n",
    "        count += 1\n",
    "        if (i[\"college\"] != \"\"):\n",
    "            for j in college_total_list:\n",
    "                short_list = j.find_all(\"p\")\n",
    "                for x in short_list:\n",
    "                    if ((x.find_next(\"a\").text == i[\"name\"]) and (x.find_next(\"small\").find_next(\"a\").text == i[\"college\"])):\n",
    "                        year = x.find_next(\"small\")\n",
    "                        # print(x.find_next(\"a\").text) # Player Name\n",
    "                        college_duration = year.find(text=True, recursive=False)\n",
    "                        # print(year.find(text=True, recursive=False))\n",
    "                        # print(x.find_next(\"small\").find_next(\"a\").text) # Player College\n",
    "                        break\n",
    "        player_entry_college = {\n",
    "            'name': i[\"name\"],\n",
    "            'active_from': i[\"active_from\"],\n",
    "            'active_to': i[\"active_to\"],\n",
    "            'position': i[\"position\"],\n",
    "            'college': i[\"college\"],\n",
    "            'college_duration': college_duration,\n",
    "            'url': i[\"url\"]\n",
    "        }\n",
    "        playersDBWithCollege.append(player_entry_college)\n",
    "        college_duration = \"\"\n",
    "        bar.update(count)"
   ]
  },
  {
   "cell_type": "markdown",
   "metadata": {},
   "source": [
    "## Create DF"
   ]
  },
  {
   "cell_type": "code",
   "execution_count": 11,
   "metadata": {},
   "outputs": [],
   "source": [
    "df = pd.DataFrame(playersDBWithCollege)"
   ]
  },
  {
   "cell_type": "markdown",
   "metadata": {},
   "source": [
    "## Output df to csv"
   ]
  },
  {
   "cell_type": "code",
   "execution_count": 12,
   "metadata": {},
   "outputs": [],
   "source": [
    "df.to_csv(\"collectedData/playerData.csv\", encoding=\"utf-8\", index_label=\"index\")"
   ]
  }
 ],
 "metadata": {
  "interpreter": {
   "hash": "aee8b7b246df8f9039afb4144a1f6fd8d2ca17a180786b69acc140d282b71a49"
  },
  "kernelspec": {
   "display_name": "Python 3.9.6 64-bit",
   "language": "python",
   "name": "python3"
  },
  "language_info": {
   "codemirror_mode": {
    "name": "ipython",
    "version": 3
   },
   "file_extension": ".py",
   "mimetype": "text/x-python",
   "name": "python",
   "nbconvert_exporter": "python",
   "pygments_lexer": "ipython3",
   "version": "3.9.6"
  },
  "orig_nbformat": 4
 },
 "nbformat": 4,
 "nbformat_minor": 2
}
